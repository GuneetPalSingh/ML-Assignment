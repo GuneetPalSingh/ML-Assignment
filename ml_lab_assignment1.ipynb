{
 "cells": [
  {
   "cell_type": "code",
   "execution_count": 4,
   "metadata": {},
   "outputs": [
    {
     "name": "stdout",
     "output_type": "stream",
     "text": [
      "Enter your name\tGuneet Pal\n",
      "Enter your age\t21\n",
      "Enter the number of times you want to print message \t3\n",
      "Hello Guneet Pal, you will be of 100 years in 2100\n",
      "\n",
      "Multiple copies \n",
      "\n",
      "Hello Guneet Pal, you will be of 100 years in 2100\n",
      "\n",
      "Hello Guneet Pal, you will be of 100 years in 2100\n",
      "\n",
      "Hello Guneet Pal, you will be of 100 years in 2100\n",
      "\n"
     ]
    }
   ],
   "source": [
    "#ques1\n",
    "import datetime\n",
    "\n",
    "def printName():\n",
    "  name = input(\"Enter your name\\t\")\n",
    "  age = int(input(\"Enter your age\\t\"))\n",
    "  n = int(input(\"Enter the number of times you want to print message \\t\"))\n",
    "  age_100 = (datetime.datetime.now().year) + (100-age)\n",
    "  print(\"Hello \"+name+ \", you will be of 100 years in \"+ str(age_100)+\"\\n\")\n",
    "  \n",
    "  print(\"Multiple copies \\n\")\n",
    "  for i in range(n):\n",
    "    print(\"Hello \"+name+ \", you will be of 100 years in \"+ str(age_100)+\"\\n\")\n",
    "  \n",
    "\n",
    "printName()\n"
   ]
  },
  {
   "cell_type": "code",
   "execution_count": 1,
   "metadata": {},
   "outputs": [
    {
     "name": "stdout",
     "output_type": "stream",
     "text": [
      "1\n",
      "1\n",
      "2\n",
      "3\n",
      "New List is [1, 1, 2, 3]\n",
      "New List in one line is[1, 1, 2, 3]\n",
      "Enter the number to find ele smaller than the number13\n",
      "Elements smaller than13 are [1, 1, 2, 3, 5, 8]\n"
     ]
    }
   ],
   "source": [
    "## Question 2\n",
    "def printele(l):\n",
    "  # Printing Elements Less than 5\n",
    "  new_lst = []\n",
    "  for i in l:\n",
    "    if i<5: \n",
    "      print(i)\n",
    "      ##1. Appending in List\n",
    "      new_lst.append(i)\n",
    "  print(\"New List is {}\".format(new_lst))\n",
    "\n",
    "  ##2. Appending in one line\n",
    "  new_lst2 = [x for x in l if x<5]\n",
    "  print(\"New List in one line is{}\".format(new_lst2))\n",
    "\n",
    "  ##3. Asking user and responding accordingly\n",
    "  number = int(input(\"Enter the number to find ele smaller than the number\"))\n",
    "  new_lst3 = [x for x in l if x<number]\n",
    "  print(\"Elements smaller than{} are {}\".format(number, new_lst3))\n",
    "a = [1, 1, 2, 3, 5, 8, 13, 21, 34, 55, 89]\n",
    "printele(a)\n"
   ]
  },
  {
   "cell_type": "code",
   "execution_count": 2,
   "metadata": {},
   "outputs": [
    {
     "name": "stdout",
     "output_type": "stream",
     "text": [
      "Enter the number of numbers for sequence to generate6\n",
      "Fibonacci sequence is:\n",
      "0\n",
      "1\n",
      "1\n",
      "2\n",
      "3\n",
      "5\n"
     ]
    }
   ],
   "source": [
    "#ques3\n",
    "def fib(n):\n",
    "   if n <= 1:\n",
    "       return n\n",
    "   else:\n",
    "       return(fib(n-1) + fib(n-2))\n",
    "k = int(input(\"Enter the number of numbers for sequence to generate\"))\n",
    "print(\"Fibonacci sequence is:\")\n",
    "for i in range(k):\n",
    "    print(fib(i))\n"
   ]
  },
  {
   "cell_type": "code",
   "execution_count": 5,
   "metadata": {},
   "outputs": [
    {
     "name": "stdout",
     "output_type": "stream",
     "text": [
      "Without using Sets\n",
      "1\n",
      "2\n",
      "3\n",
      "5\n",
      "8\n",
      "13\n",
      "21\n",
      "34\n",
      "55\n",
      "89\n"
     ]
    }
   ],
   "source": [
    "#ques 4\n",
    "def func1(lst):\n",
    "  unique = []\n",
    "  for l in lst:\n",
    "    if l not in unique:\n",
    "      unique.append(l)\n",
    "  for x in unique:\n",
    "    print(x)\n",
    "\n",
    "def func2(lst):\n",
    "  list_set = set(lst)\n",
    "  unique_list = list(list_set)\n",
    "  for x in unique_list:\n",
    "    print(x)\n",
    "\n",
    "a = [1, 1, 2, 3, 5, 8, 13, 21, 34, 55, 89, 21, 89]\n",
    "print(\"Without using Sets\")\n",
    "func1(a)"
   ]
  },
  {
   "cell_type": "code",
   "execution_count": 6,
   "metadata": {},
   "outputs": [
    {
     "name": "stdout",
     "output_type": "stream",
     "text": [
      "Using Sets\n",
      "1\n",
      "2\n",
      "3\n",
      "34\n",
      "5\n",
      "8\n",
      "13\n",
      "21\n",
      "55\n",
      "89\n"
     ]
    }
   ],
   "source": [
    "print(\"Using Sets\")\n",
    "func2(a)"
   ]
  },
  {
   "cell_type": "code",
   "execution_count": 7,
   "metadata": {},
   "outputs": [
    {
     "name": "stdout",
     "output_type": "stream",
     "text": [
      "Enter Number you want to check \t5\n",
      "Number is Prime\n"
     ]
    }
   ],
   "source": [
    "# ques 5\n",
    "def prime_check():\n",
    "  n = int(input(\"Enter Number you want to check \\t\"))\n",
    "  flag = 1\n",
    "  for i in range(2, int(n/2)):\n",
    "    if(n%i == 0):\n",
    "      flag = 0\n",
    "      break\n",
    "  if(flag==0):\n",
    "    print(\"Number is not Prime\")\n",
    "  else:\n",
    "    print(\"Number is Prime\")\n",
    "\n",
    "prime_check()\n"
   ]
  }
 ],
 "metadata": {
  "kernelspec": {
   "display_name": "Python 3",
   "language": "python",
   "name": "python3"
  },
  "language_info": {
   "codemirror_mode": {
    "name": "ipython",
    "version": 3
   },
   "file_extension": ".py",
   "mimetype": "text/x-python",
   "name": "python",
   "nbconvert_exporter": "python",
   "pygments_lexer": "ipython3",
   "version": "3.8.3"
  }
 },
 "nbformat": 4,
 "nbformat_minor": 4
}
